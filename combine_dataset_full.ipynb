{
 "cells": [
  {
   "cell_type": "code",
   "execution_count": 145,
   "metadata": {},
   "outputs": [],
   "source": [
    "# Import Library\n",
    "import pandas as pd\n",
    "import numpy as np"
   ]
  },
  {
   "cell_type": "code",
   "execution_count": 146,
   "metadata": {},
   "outputs": [],
   "source": [
    "# read csv file\n",
    "df_p1 = pd.read_csv('combined_dataset/Paslon1_full.csv')\n",
    "df_p2 = pd.read_csv('combined_dataset/Paslon2_full.csv')\n",
    "df_p3 = pd.read_csv('combined_dataset/Paslon3_full.csv')"
   ]
  },
  {
   "cell_type": "markdown",
   "metadata": {},
   "source": [
    "# Clean and Modify Data"
   ]
  },
  {
   "cell_type": "code",
   "execution_count": 147,
   "metadata": {},
   "outputs": [
    {
     "name": "stderr",
     "output_type": "stream",
     "text": [
      "C:\\Users\\mkmaa\\AppData\\Local\\Temp\\ipykernel_35444\\519926434.py:2: FutureWarning: Setting an item of incompatible dtype is deprecated and will raise in a future error of pandas. Value 'Anies' has dtype incompatible with float64, please explicitly cast to a compatible dtype first.\n",
      "  df_p1.loc[df_p1['keyword'] == 'Pres', 'target'] = 'Anies'\n",
      "C:\\Users\\mkmaa\\AppData\\Local\\Temp\\ipykernel_35444\\519926434.py:6: FutureWarning: Setting an item of incompatible dtype is deprecated and will raise in a future error of pandas. Value 'Prabowo' has dtype incompatible with float64, please explicitly cast to a compatible dtype first.\n",
      "  df_p2.loc[df_p2['keyword'] == 'Pres', 'target'] = 'Prabowo'\n",
      "C:\\Users\\mkmaa\\AppData\\Local\\Temp\\ipykernel_35444\\519926434.py:10: FutureWarning: Setting an item of incompatible dtype is deprecated and will raise in a future error of pandas. Value 'Ganjar' has dtype incompatible with float64, please explicitly cast to a compatible dtype first.\n",
      "  df_p3.loc[df_p3['keyword'] == 'Pres', 'target'] = 'Ganjar'\n"
     ]
    }
   ],
   "source": [
    "# create new label 'target' from column 'keyword'\n",
    "df_p1.loc[df_p1['keyword'] == 'Pres', 'target'] = 'Anies'\n",
    "df_p1.loc[df_p1['keyword'] == 'Wapres', 'target'] = 'Imin'\n",
    "df_p1.loc[df_p1['keyword'] == 'Akronim', 'target'] = 'AMin'\n",
    "\n",
    "df_p2.loc[df_p2['keyword'] == 'Pres', 'target'] = 'Prabowo'\n",
    "df_p2.loc[df_p2['keyword'] == 'Wapres', 'target'] = 'Gibran'\n",
    "df_p2.loc[df_p2['keyword'] == 'Akronim', 'target'] = 'Pragi'\n",
    "\n",
    "df_p3.loc[df_p3['keyword'] == 'Pres', 'target'] = 'Ganjar'\n",
    "df_p3.loc[df_p3['keyword'] == 'Wapres', 'target'] = 'Mahfud'\n",
    "df_p3.loc[df_p3['keyword'] == 'Akronim', 'target'] = 'GaMa'"
   ]
  },
  {
   "cell_type": "code",
   "execution_count": 148,
   "metadata": {},
   "outputs": [],
   "source": [
    "# add column paslon\n",
    "df_p1['paslon'] = 'P1'\n",
    "df_p2['paslon'] = 'P2'\n",
    "df_p3['paslon'] = 'P3'"
   ]
  },
  {
   "cell_type": "code",
   "execution_count": 149,
   "metadata": {},
   "outputs": [],
   "source": [
    "# take date from created_at\n",
    "df_p1['created_at'] = pd.to_datetime(df_p1['created_at'])\n",
    "df_p1['date'] = df_p1['created_at'].dt.date\n",
    "df_p1['date'] = pd.to_datetime(df_p1['date'])\n",
    "\n",
    "df_p2['created_at'] = pd.to_datetime(df_p2['created_at'])\n",
    "df_p2['date'] = df_p2['created_at'].dt.date\n",
    "df_p2['date'] = pd.to_datetime(df_p2['date'])\n",
    "\n",
    "df_p3['created_at'] = pd.to_datetime(df_p3['created_at'])\n",
    "df_p3['date'] = df_p3['created_at'].dt.date\n",
    "df_p3['date'] = pd.to_datetime(df_p3['date'])"
   ]
  },
  {
   "cell_type": "markdown",
   "metadata": {},
   "source": [
    "# Check Data"
   ]
  },
  {
   "cell_type": "markdown",
   "metadata": {},
   "source": [
    "## Paslon 1"
   ]
  },
  {
   "cell_type": "code",
   "execution_count": 150,
   "metadata": {},
   "outputs": [
    {
     "data": {
      "text/plain": [
       "date\n",
       "2023-12-05    266\n",
       "2023-12-06    413\n",
       "2023-12-07    365\n",
       "2023-12-08    457\n",
       "2023-12-09    472\n",
       "2023-12-10    397\n",
       "2023-12-11    443\n",
       "2023-12-12    777\n",
       "2023-12-13    779\n",
       "2023-12-14    610\n",
       "2023-12-15    388\n",
       "2023-12-16    642\n",
       "2023-12-17    398\n",
       "2023-12-18    499\n",
       "2023-12-19    524\n",
       "2023-12-20    489\n",
       "2023-12-21    535\n",
       "2023-12-22    754\n",
       "2023-12-23    941\n",
       "2023-12-24    455\n",
       "2023-12-25    486\n",
       "2023-12-26    368\n",
       "2023-12-27    426\n",
       "2023-12-28    535\n",
       "2023-12-29    542\n",
       "Name: count, dtype: int64"
      ]
     },
     "execution_count": 150,
     "metadata": {},
     "output_type": "execute_result"
    }
   ],
   "source": [
    "df_p2['date'].value_counts().sort_index()"
   ]
  },
  {
   "cell_type": "code",
   "execution_count": 151,
   "metadata": {},
   "outputs": [
    {
     "data": {
      "text/plain": [
       "keyword\n",
       "Pres       8272\n",
       "Wapres     4351\n",
       "Akronim     338\n",
       "Name: count, dtype: int64"
      ]
     },
     "execution_count": 151,
     "metadata": {},
     "output_type": "execute_result"
    }
   ],
   "source": [
    "df_p2['keyword'].value_counts()"
   ]
  },
  {
   "cell_type": "code",
   "execution_count": 152,
   "metadata": {},
   "outputs": [
    {
     "data": {
      "text/plain": [
       "target\n",
       "Prabowo    8272\n",
       "Gibran     4351\n",
       "Pragi       338\n",
       "Name: count, dtype: int64"
      ]
     },
     "execution_count": 152,
     "metadata": {},
     "output_type": "execute_result"
    }
   ],
   "source": [
    "df_p2['target'].value_counts()"
   ]
  },
  {
   "cell_type": "markdown",
   "metadata": {},
   "source": [
    "## Paslon 2"
   ]
  },
  {
   "cell_type": "code",
   "execution_count": 153,
   "metadata": {},
   "outputs": [
    {
     "data": {
      "text/plain": [
       "date\n",
       "2023-12-05    266\n",
       "2023-12-06    413\n",
       "2023-12-07    365\n",
       "2023-12-08    457\n",
       "2023-12-09    472\n",
       "2023-12-10    397\n",
       "2023-12-11    443\n",
       "2023-12-12    777\n",
       "2023-12-13    779\n",
       "2023-12-14    610\n",
       "2023-12-15    388\n",
       "2023-12-16    642\n",
       "2023-12-17    398\n",
       "2023-12-18    499\n",
       "2023-12-19    524\n",
       "2023-12-20    489\n",
       "2023-12-21    535\n",
       "2023-12-22    754\n",
       "2023-12-23    941\n",
       "2023-12-24    455\n",
       "2023-12-25    486\n",
       "2023-12-26    368\n",
       "2023-12-27    426\n",
       "2023-12-28    535\n",
       "2023-12-29    542\n",
       "Name: count, dtype: int64"
      ]
     },
     "execution_count": 153,
     "metadata": {},
     "output_type": "execute_result"
    }
   ],
   "source": [
    "df_p2['date'].value_counts().sort_index()"
   ]
  },
  {
   "cell_type": "code",
   "execution_count": 154,
   "metadata": {},
   "outputs": [
    {
     "data": {
      "text/plain": [
       "keyword\n",
       "Pres       8272\n",
       "Wapres     4351\n",
       "Akronim     338\n",
       "Name: count, dtype: int64"
      ]
     },
     "execution_count": 154,
     "metadata": {},
     "output_type": "execute_result"
    }
   ],
   "source": [
    "df_p2['keyword'].value_counts()"
   ]
  },
  {
   "cell_type": "code",
   "execution_count": 155,
   "metadata": {},
   "outputs": [
    {
     "data": {
      "text/plain": [
       "target\n",
       "Prabowo    8272\n",
       "Gibran     4351\n",
       "Pragi       338\n",
       "Name: count, dtype: int64"
      ]
     },
     "execution_count": 155,
     "metadata": {},
     "output_type": "execute_result"
    }
   ],
   "source": [
    "df_p2['target'].value_counts()"
   ]
  },
  {
   "cell_type": "markdown",
   "metadata": {},
   "source": [
    "## Paslon 3"
   ]
  },
  {
   "cell_type": "code",
   "execution_count": 156,
   "metadata": {},
   "outputs": [
    {
     "data": {
      "text/plain": [
       "date\n",
       "2023-12-05    240\n",
       "2023-12-06    269\n",
       "2023-12-07    347\n",
       "2023-12-08    395\n",
       "2023-12-09    625\n",
       "2023-12-10    262\n",
       "2023-12-11    229\n",
       "2023-12-12    399\n",
       "2023-12-13    245\n",
       "2023-12-14    333\n",
       "2023-12-15    431\n",
       "2023-12-16    195\n",
       "2023-12-17    253\n",
       "2023-12-18    263\n",
       "2023-12-19    271\n",
       "2023-12-20    262\n",
       "2023-12-21    292\n",
       "2023-12-22    439\n",
       "2023-12-23    255\n",
       "2023-12-24    302\n",
       "2023-12-25    274\n",
       "2023-12-26    266\n",
       "2023-12-27    350\n",
       "2023-12-28    314\n",
       "2023-12-29    289\n",
       "Name: count, dtype: int64"
      ]
     },
     "execution_count": 156,
     "metadata": {},
     "output_type": "execute_result"
    }
   ],
   "source": [
    "df_p3['date'].value_counts().sort_index()"
   ]
  },
  {
   "cell_type": "code",
   "execution_count": 157,
   "metadata": {},
   "outputs": [
    {
     "data": {
      "text/plain": [
       "keyword\n",
       "Pres       3678\n",
       "Akronim    2529\n",
       "Wapres     1593\n",
       "Name: count, dtype: int64"
      ]
     },
     "execution_count": 157,
     "metadata": {},
     "output_type": "execute_result"
    }
   ],
   "source": [
    "df_p3['keyword'].value_counts()"
   ]
  },
  {
   "cell_type": "code",
   "execution_count": 158,
   "metadata": {},
   "outputs": [
    {
     "data": {
      "text/plain": [
       "target\n",
       "Ganjar    3678\n",
       "GaMa      2529\n",
       "Mahfud    1593\n",
       "Name: count, dtype: int64"
      ]
     },
     "execution_count": 158,
     "metadata": {},
     "output_type": "execute_result"
    }
   ],
   "source": [
    "df_p3['target'].value_counts()"
   ]
  },
  {
   "cell_type": "markdown",
   "metadata": {},
   "source": [
    "# Combine dataset"
   ]
  },
  {
   "cell_type": "code",
   "execution_count": 159,
   "metadata": {},
   "outputs": [
    {
     "name": "stdout",
     "output_type": "stream",
     "text": [
      "<class 'pandas.core.frame.DataFrame'>\n",
      "Index: 34341 entries, 0 to 7799\n",
      "Data columns (total 18 columns):\n",
      " #   Column               Non-Null Count  Dtype                    \n",
      "---  ------               --------------  -----                    \n",
      " 0   created_at           34341 non-null  datetime64[ns, UTC+07:00]\n",
      " 1   id_str               34341 non-null  int64                    \n",
      " 2   full_text            34341 non-null  object                   \n",
      " 3   quote_count          34341 non-null  int64                    \n",
      " 4   reply_count          34341 non-null  int64                    \n",
      " 5   retweet_count        34341 non-null  int64                    \n",
      " 6   favorite_count       34341 non-null  object                   \n",
      " 7   lang                 34341 non-null  object                   \n",
      " 8   user_id_str          34341 non-null  int64                    \n",
      " 9   conversation_id_str  34341 non-null  object                   \n",
      " 10  username             34341 non-null  object                   \n",
      " 11  tweet_url            34335 non-null  object                   \n",
      " 12  image_url            19956 non-null  object                   \n",
      " 13  location             19319 non-null  object                   \n",
      " 14  keyword              34341 non-null  object                   \n",
      " 15  target               34341 non-null  object                   \n",
      " 16  paslon               34341 non-null  object                   \n",
      " 17  date                 34341 non-null  datetime64[ns]           \n",
      "dtypes: datetime64[ns, UTC+07:00](1), datetime64[ns](1), int64(5), object(11)\n",
      "memory usage: 5.0+ MB\n"
     ]
    }
   ],
   "source": [
    "# combine data\n",
    "df = pd.concat([df_p1, df_p2, df_p3])\n",
    "df.info()"
   ]
  },
  {
   "cell_type": "code",
   "execution_count": 160,
   "metadata": {},
   "outputs": [
    {
     "name": "stdout",
     "output_type": "stream",
     "text": [
      "Duplicate Data by Text:  1459\n",
      "Total Data after Drop:  32882\n"
     ]
    }
   ],
   "source": [
    "# count duplicate data based on full_text\n",
    "print(\"Duplicate Data by Text: \", df['full_text'].duplicated().sum())\n",
    "\n",
    "# drop duplicate data based on full_text\n",
    "df = df.drop_duplicates(subset=['full_text'])\n",
    "print(\"Total Data after Drop: \", len(df))"
   ]
  },
  {
   "cell_type": "code",
   "execution_count": 161,
   "metadata": {},
   "outputs": [
    {
     "name": "stdout",
     "output_type": "stream",
     "text": [
      "19\n",
      "6\n",
      "Total Data after Drop:  32860\n"
     ]
    }
   ],
   "source": [
    "# check data with \"dood\", \"Dood\" in full_text and username\n",
    "print(len(df[df['full_text'].str.contains(\"dood|Dood\")]))\n",
    "print(len(df[df['username'].str.contains(\"dood|Dood\")]))\n",
    "\n",
    "# drop data with \"dood\", \"Dood\" in full_text and username\n",
    "df = df[~df['full_text'].str.contains(\"dood|Dood\")]\n",
    "df = df[~df['username'].str.contains(\"dood|Dood\")]\n",
    "print(\"Total Data after Drop: \", len(df))"
   ]
  },
  {
   "cell_type": "code",
   "execution_count": 162,
   "metadata": {},
   "outputs": [
    {
     "data": {
      "text/plain": [
       "target\n",
       "Prabowo    7660\n",
       "Anies      6723\n",
       "Gibran     4211\n",
       "Imin       4071\n",
       "Ganjar     3228\n",
       "AMin       2772\n",
       "GaMa       2294\n",
       "Mahfud     1563\n",
       "Pragi       338\n",
       "Name: count, dtype: int64"
      ]
     },
     "execution_count": 162,
     "metadata": {},
     "output_type": "execute_result"
    }
   ],
   "source": [
    "df['target'].value_counts()"
   ]
  },
  {
   "cell_type": "code",
   "execution_count": 163,
   "metadata": {},
   "outputs": [
    {
     "data": {
      "text/plain": [
       "keyword\n",
       "Pres       17611\n",
       "Wapres      9845\n",
       "Akronim     5404\n",
       "Name: count, dtype: int64"
      ]
     },
     "execution_count": 163,
     "metadata": {},
     "output_type": "execute_result"
    }
   ],
   "source": [
    "df['keyword'].value_counts()"
   ]
  },
  {
   "cell_type": "code",
   "execution_count": 164,
   "metadata": {},
   "outputs": [
    {
     "data": {
      "text/plain": [
       "paslon\n",
       "P1    13566\n",
       "P2    12209\n",
       "P3     7085\n",
       "Name: count, dtype: int64"
      ]
     },
     "execution_count": 164,
     "metadata": {},
     "output_type": "execute_result"
    }
   ],
   "source": [
    "df['paslon'].value_counts()"
   ]
  },
  {
   "cell_type": "code",
   "execution_count": 165,
   "metadata": {},
   "outputs": [],
   "source": [
    "# Save to csv\n",
    "df.to_csv('combined_dataset/Full.csv', index=False)"
   ]
  },
  {
   "cell_type": "markdown",
   "metadata": {},
   "source": [
    "## Random Sampling"
   ]
  },
  {
   "cell_type": "code",
   "execution_count": 166,
   "metadata": {},
   "outputs": [
    {
     "name": "stdout",
     "output_type": "stream",
     "text": [
      "<class 'pandas.core.frame.DataFrame'>\n",
      "Index: 15000 entries, 1212 to 7896\n",
      "Data columns (total 18 columns):\n",
      " #   Column               Non-Null Count  Dtype                    \n",
      "---  ------               --------------  -----                    \n",
      " 0   created_at           15000 non-null  datetime64[ns, UTC+07:00]\n",
      " 1   id_str               15000 non-null  int64                    \n",
      " 2   full_text            15000 non-null  object                   \n",
      " 3   quote_count          15000 non-null  int64                    \n",
      " 4   reply_count          15000 non-null  int64                    \n",
      " 5   retweet_count        15000 non-null  int64                    \n",
      " 6   favorite_count       15000 non-null  object                   \n",
      " 7   lang                 15000 non-null  object                   \n",
      " 8   user_id_str          15000 non-null  int64                    \n",
      " 9   conversation_id_str  15000 non-null  object                   \n",
      " 10  username             15000 non-null  object                   \n",
      " 11  tweet_url            14997 non-null  object                   \n",
      " 12  image_url            8778 non-null   object                   \n",
      " 13  location             8428 non-null   object                   \n",
      " 14  keyword              15000 non-null  object                   \n",
      " 15  target               15000 non-null  object                   \n",
      " 16  paslon               15000 non-null  object                   \n",
      " 17  date                 15000 non-null  datetime64[ns]           \n",
      "dtypes: datetime64[ns, UTC+07:00](1), datetime64[ns](1), int64(5), object(11)\n",
      "memory usage: 2.2+ MB\n"
     ]
    }
   ],
   "source": [
    "# take 15000 sample data \n",
    "df_sample = df.sample(n=15000, random_state=1)\n",
    "df_sample.info()"
   ]
  },
  {
   "cell_type": "code",
   "execution_count": 167,
   "metadata": {},
   "outputs": [
    {
     "data": {
      "text/plain": [
       "date\n",
       "2023-12-05    590\n",
       "2023-12-06    473\n",
       "2023-12-07    516\n",
       "2023-12-08    563\n",
       "2023-12-09    662\n",
       "2023-12-10    596\n",
       "2023-12-11    520\n",
       "2023-12-12    777\n",
       "2023-12-13    679\n",
       "2023-12-14    807\n",
       "2023-12-15    683\n",
       "2023-12-16    666\n",
       "2023-12-17    421\n",
       "2023-12-18    551\n",
       "2023-12-19    570\n",
       "2023-12-20    515\n",
       "2023-12-21    538\n",
       "2023-12-22    750\n",
       "2023-12-23    802\n",
       "2023-12-24    629\n",
       "2023-12-25    469\n",
       "2023-12-26    394\n",
       "2023-12-27    563\n",
       "2023-12-28    675\n",
       "2023-12-29    591\n",
       "Name: count, dtype: int64"
      ]
     },
     "execution_count": 167,
     "metadata": {},
     "output_type": "execute_result"
    }
   ],
   "source": [
    "df_sample['date'].value_counts().sort_index()"
   ]
  },
  {
   "cell_type": "code",
   "execution_count": 168,
   "metadata": {},
   "outputs": [
    {
     "data": {
      "text/plain": [
       "paslon\n",
       "P1    6273\n",
       "P2    5558\n",
       "P3    3169\n",
       "Name: count, dtype: int64"
      ]
     },
     "execution_count": 168,
     "metadata": {},
     "output_type": "execute_result"
    }
   ],
   "source": [
    "df_sample['paslon'].value_counts()"
   ]
  },
  {
   "cell_type": "code",
   "execution_count": 169,
   "metadata": {},
   "outputs": [
    {
     "data": {
      "text/plain": [
       "keyword\n",
       "Pres       8017\n",
       "Wapres     4495\n",
       "Akronim    2488\n",
       "Name: count, dtype: int64"
      ]
     },
     "execution_count": 169,
     "metadata": {},
     "output_type": "execute_result"
    }
   ],
   "source": [
    "df_sample['keyword'].value_counts()"
   ]
  },
  {
   "cell_type": "code",
   "execution_count": 170,
   "metadata": {},
   "outputs": [
    {
     "data": {
      "text/plain": [
       "target\n",
       "Prabowo    3503\n",
       "Anies      3070\n",
       "Imin       1915\n",
       "Gibran     1890\n",
       "Ganjar     1444\n",
       "AMin       1288\n",
       "GaMa       1035\n",
       "Mahfud      690\n",
       "Pragi       165\n",
       "Name: count, dtype: int64"
      ]
     },
     "execution_count": 170,
     "metadata": {},
     "output_type": "execute_result"
    }
   ],
   "source": [
    "df_sample['target'].value_counts()"
   ]
  },
  {
   "cell_type": "code",
   "execution_count": 171,
   "metadata": {},
   "outputs": [],
   "source": [
    "# save to csv\n",
    "df_sample.to_csv('combined_dataset/Sample.csv', index=False)"
   ]
  },
  {
   "cell_type": "code",
   "execution_count": null,
   "metadata": {},
   "outputs": [],
   "source": []
  }
 ],
 "metadata": {
  "kernelspec": {
   "display_name": "pytorch-gpu-python-3-10",
   "language": "python",
   "name": "python3"
  },
  "language_info": {
   "codemirror_mode": {
    "name": "ipython",
    "version": 3
   },
   "file_extension": ".py",
   "mimetype": "text/x-python",
   "name": "python",
   "nbconvert_exporter": "python",
   "pygments_lexer": "ipython3",
   "version": "3.10.12"
  }
 },
 "nbformat": 4,
 "nbformat_minor": 2
}
