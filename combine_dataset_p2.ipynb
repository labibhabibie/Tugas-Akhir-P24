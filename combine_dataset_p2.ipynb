{
 "cells": [
  {
   "cell_type": "code",
   "execution_count": 15,
   "metadata": {},
   "outputs": [],
   "source": [
    "# Import Library\n",
    "import pandas as pd\n",
    "import numpy as np"
   ]
  },
  {
   "cell_type": "code",
   "execution_count": 16,
   "metadata": {},
   "outputs": [
    {
     "name": "stdout",
     "output_type": "stream",
     "text": [
      "<class 'pandas.core.frame.DataFrame'>\n",
      "RangeIndex: 12961 entries, 0 to 12960\n",
      "Data columns (total 15 columns):\n",
      " #   Column               Non-Null Count  Dtype \n",
      "---  ------               --------------  ----- \n",
      " 0   created_at           12961 non-null  object\n",
      " 1   id_str               12961 non-null  int64 \n",
      " 2   full_text            12961 non-null  object\n",
      " 3   quote_count          12961 non-null  int64 \n",
      " 4   reply_count          12961 non-null  int64 \n",
      " 5   retweet_count        12961 non-null  int64 \n",
      " 6   favorite_count       12961 non-null  object\n",
      " 7   lang                 12961 non-null  object\n",
      " 8   user_id_str          12961 non-null  int64 \n",
      " 9   conversation_id_str  12961 non-null  object\n",
      " 10  username             12961 non-null  object\n",
      " 11  tweet_url            12955 non-null  object\n",
      " 12  image_url            8106 non-null   object\n",
      " 13  location             7464 non-null   object\n",
      " 14  keyword              12961 non-null  object\n",
      "dtypes: int64(5), object(10)\n",
      "memory usage: 1.5+ MB\n"
     ]
    }
   ],
   "source": [
    "df_05 = pd.read_csv('cleaned_dataset/paslon2/PraGi_2023-12-05.csv')\n",
    "df_06 = pd.read_csv('cleaned_dataset/paslon2/PraGi_2023-12-06.csv')\n",
    "df_07 = pd.read_csv('cleaned_dataset/paslon2/PraGi_2023-12-07.csv')\n",
    "df_08 = pd.read_csv('cleaned_dataset/paslon2/PraGi_2023-12-08.csv')\n",
    "df_09 = pd.read_csv('cleaned_dataset/paslon2/PraGi_2023-12-09.csv')\n",
    "df_10 = pd.read_csv('cleaned_dataset/paslon2/PraGi_2023-12-10.csv')\n",
    "df_11 = pd.read_csv('cleaned_dataset/paslon2/PraGi_2023-12-11.csv')\n",
    "df_12 = pd.read_csv('cleaned_dataset/paslon2/PraGi_2023-12-12.csv')\n",
    "df_13 = pd.read_csv('cleaned_dataset/paslon2/PraGi_2023-12-13.csv')\n",
    "df_14 = pd.read_csv('cleaned_dataset/paslon2/PraGi_2023-12-14.csv')\n",
    "df_15 = pd.read_csv('cleaned_dataset/paslon2/PraGi_2023-12-15.csv')\n",
    "df_16 = pd.read_csv('cleaned_dataset/paslon2/PraGi_2023-12-16.csv')\n",
    "df_17 = pd.read_csv('cleaned_dataset/paslon2/PraGi_2023-12-17.csv')\n",
    "df_18 = pd.read_csv('cleaned_dataset/paslon2/PraGi_2023-12-18.csv')\n",
    "df_19 = pd.read_csv('cleaned_dataset/paslon2/PraGi_2023-12-19.csv')\n",
    "df_20 = pd.read_csv('cleaned_dataset/paslon2/PraGi_2023-12-20.csv')\n",
    "df_21 = pd.read_csv('cleaned_dataset/paslon2/PraGi_2023-12-21.csv')\n",
    "df_22 = pd.read_csv('cleaned_dataset/paslon2/PraGi_2023-12-22.csv')\n",
    "df_23 = pd.read_csv('cleaned_dataset/paslon2/PraGi_2023-12-23.csv')\n",
    "df_24 = pd.read_csv('cleaned_dataset/paslon2/PraGi_2023-12-24.csv')\n",
    "df_25 = pd.read_csv('cleaned_dataset/paslon2/PraGi_2023-12-25.csv')\n",
    "df_26 = pd.read_csv('cleaned_dataset/paslon2/PraGi_2023-12-26.csv')\n",
    "df_27 = pd.read_csv('cleaned_dataset/paslon2/PraGi_2023-12-27.csv')\n",
    "df_28 = pd.read_csv('cleaned_dataset/paslon2/PraGi_2023-12-28.csv')\n",
    "df_29 = pd.read_csv('cleaned_dataset/paslon2/PraGi_2023-12-29.csv')\n",
    "\n",
    "# combine all data\n",
    "df = pd.concat([df_05, df_06, df_07, df_08, df_09, df_10, df_11, df_12, df_13, df_14, df_15, df_16, df_17, df_18, df_19, df_20, df_21, df_22, df_23, df_24, df_25, df_26, df_27, df_28, df_29], axis=0, ignore_index=True)\n",
    "df.info()"
   ]
  },
  {
   "cell_type": "code",
   "execution_count": 17,
   "metadata": {},
   "outputs": [
    {
     "name": "stdout",
     "output_type": "stream",
     "text": [
      "Duplicate Data by Text:  0\n",
      "Total Data after Drop:  12961\n"
     ]
    }
   ],
   "source": [
    "# count duplicate data based on full_text\n",
    "print(\"Duplicate Data by Text: \", df['full_text'].duplicated().sum())\n",
    "\n",
    "# drop duplicate data based on full_text\n",
    "df = df.drop_duplicates(subset=['full_text'])\n",
    "print(\"Total Data after Drop: \", len(df))"
   ]
  },
  {
   "cell_type": "code",
   "execution_count": 18,
   "metadata": {},
   "outputs": [],
   "source": [
    "# export to csv\n",
    "df.to_csv('combined_sample_dataset/Paslon2_full.csv', index=False)"
   ]
  },
  {
   "cell_type": "code",
   "execution_count": 19,
   "metadata": {},
   "outputs": [
    {
     "name": "stdout",
     "output_type": "stream",
     "text": [
      "<class 'pandas.core.frame.DataFrame'>\n",
      "Index: 7500 entries, 6407 to 12343\n",
      "Data columns (total 15 columns):\n",
      " #   Column               Non-Null Count  Dtype \n",
      "---  ------               --------------  ----- \n",
      " 0   created_at           7500 non-null   object\n",
      " 1   id_str               7500 non-null   int64 \n",
      " 2   full_text            7500 non-null   object\n",
      " 3   quote_count          7500 non-null   int64 \n",
      " 4   reply_count          7500 non-null   int64 \n",
      " 5   retweet_count        7500 non-null   int64 \n",
      " 6   favorite_count       7500 non-null   object\n",
      " 7   lang                 7500 non-null   object\n",
      " 8   user_id_str          7500 non-null   int64 \n",
      " 9   conversation_id_str  7500 non-null   object\n",
      " 10  username             7500 non-null   object\n",
      " 11  tweet_url            7494 non-null   object\n",
      " 12  image_url            4713 non-null   object\n",
      " 13  location             4344 non-null   object\n",
      " 14  keyword              7500 non-null   object\n",
      "dtypes: int64(5), object(10)\n",
      "memory usage: 937.5+ KB\n"
     ]
    }
   ],
   "source": [
    "# take random sample data\n",
    "df_sample = df.sample(n=7500, random_state=42)\n",
    "df_sample.info()"
   ]
  },
  {
   "cell_type": "code",
   "execution_count": 21,
   "metadata": {},
   "outputs": [
    {
     "name": "stdout",
     "output_type": "stream",
     "text": [
      "<class 'pandas.core.frame.DataFrame'>\n",
      "Index: 7500 entries, 6407 to 12343\n",
      "Data columns (total 16 columns):\n",
      " #   Column               Non-Null Count  Dtype                    \n",
      "---  ------               --------------  -----                    \n",
      " 0   created_at           7500 non-null   datetime64[ns, UTC+07:00]\n",
      " 1   id_str               7500 non-null   int64                    \n",
      " 2   full_text            7500 non-null   object                   \n",
      " 3   quote_count          7500 non-null   int64                    \n",
      " 4   reply_count          7500 non-null   int64                    \n",
      " 5   retweet_count        7500 non-null   int64                    \n",
      " 6   favorite_count       7500 non-null   object                   \n",
      " 7   lang                 7500 non-null   object                   \n",
      " 8   user_id_str          7500 non-null   int64                    \n",
      " 9   conversation_id_str  7500 non-null   object                   \n",
      " 10  username             7500 non-null   object                   \n",
      " 11  tweet_url            7494 non-null   object                   \n",
      " 12  image_url            4713 non-null   object                   \n",
      " 13  location             4344 non-null   object                   \n",
      " 14  keyword              7500 non-null   object                   \n",
      " 15  date                 7500 non-null   datetime64[ns]           \n",
      "dtypes: datetime64[ns, UTC+07:00](1), datetime64[ns](1), int64(5), object(9)\n",
      "memory usage: 996.1+ KB\n"
     ]
    }
   ],
   "source": [
    "# take date from created_at\n",
    "df_sample['created_at'] = pd.to_datetime(df_sample['created_at'])\n",
    "df_sample['date'] = df_sample['created_at'].dt.date\n",
    "df_sample['date'] = pd.to_datetime(df_sample['date'])\n",
    "df_sample.info()"
   ]
  },
  {
   "cell_type": "code",
   "execution_count": 22,
   "metadata": {},
   "outputs": [
    {
     "data": {
      "text/plain": [
       "date\n",
       "2023-12-05    149\n",
       "2023-12-06    252\n",
       "2023-12-07    203\n",
       "2023-12-08    268\n",
       "2023-12-09    264\n",
       "2023-12-10    229\n",
       "2023-12-11    256\n",
       "2023-12-12    465\n",
       "2023-12-13    457\n",
       "2023-12-14    355\n",
       "2023-12-15    234\n",
       "2023-12-16    376\n",
       "2023-12-17    226\n",
       "2023-12-18    288\n",
       "2023-12-19    286\n",
       "2023-12-20    298\n",
       "2023-12-21    323\n",
       "2023-12-22    426\n",
       "2023-12-23    540\n",
       "2023-12-24    253\n",
       "2023-12-25    292\n",
       "2023-12-26    205\n",
       "2023-12-27    242\n",
       "2023-12-28    297\n",
       "2023-12-29    316\n",
       "Name: count, dtype: int64"
      ]
     },
     "execution_count": 22,
     "metadata": {},
     "output_type": "execute_result"
    }
   ],
   "source": [
    "df_sample['date'].value_counts().sort_index()"
   ]
  },
  {
   "cell_type": "code",
   "execution_count": 23,
   "metadata": {},
   "outputs": [
    {
     "data": {
      "text/plain": [
       "keyword\n",
       "Pres       4840\n",
       "Wapres     2460\n",
       "Akronim     200\n",
       "Name: count, dtype: int64"
      ]
     },
     "execution_count": 23,
     "metadata": {},
     "output_type": "execute_result"
    }
   ],
   "source": [
    "df_sample['keyword'].value_counts()"
   ]
  },
  {
   "cell_type": "code",
   "execution_count": 24,
   "metadata": {},
   "outputs": [],
   "source": [
    "# export to csv\n",
    "df_sample.to_csv('combined_sample_dataset/Paslon2_sample.csv', index=False)"
   ]
  },
  {
   "cell_type": "code",
   "execution_count": null,
   "metadata": {},
   "outputs": [],
   "source": []
  }
 ],
 "metadata": {
  "kernelspec": {
   "display_name": "Python 3.8.18 ('base')",
   "language": "python",
   "name": "python3"
  },
  "language_info": {
   "codemirror_mode": {
    "name": "ipython",
    "version": 3
   },
   "file_extension": ".py",
   "mimetype": "text/x-python",
   "name": "python",
   "nbconvert_exporter": "python",
   "pygments_lexer": "ipython3",
   "version": "3.8.18"
  },
  "vscode": {
   "interpreter": {
    "hash": "e26da9777431fcd98778416b583e2cb3f0c4f5515b7897587b203af2bddddd45"
   }
  }
 },
 "nbformat": 4,
 "nbformat_minor": 2
}
